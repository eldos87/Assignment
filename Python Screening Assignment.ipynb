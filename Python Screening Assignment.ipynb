{
 "cells": [
  {
   "cell_type": "markdown",
   "id": "3fc6d0f2",
   "metadata": {},
   "source": [
    "#### 1. Create a function in python to read the text file and replace specific content of the file."
   ]
  },
  {
   "cell_type": "code",
   "execution_count": 1,
   "id": "113e8eed",
   "metadata": {},
   "outputs": [],
   "source": [
    "def read_file(filepath):\n",
    "    try:\n",
    "        file = open(filepath,'r')\n",
    "        data = file.read()\n",
    "        data = data.replace('placement','screening')\n",
    "        file.close()\n",
    "    except Exception as e:\n",
    "        print (\"Please verify filename!\")\n",
    "        raise e \n",
    "        \n",
    "    try:\n",
    "        file = open(filepath,'w')\n",
    "        file.write(data)\n",
    "        file.close()\n",
    "    except Exception as e:\n",
    "        raise e"
   ]
  },
  {
   "cell_type": "markdown",
   "id": "c048de49",
   "metadata": {},
   "source": [
    "#### 2. Demonstrate use of abstract class, multiple inheritance and decorator in python using examples."
   ]
  },
  {
   "cell_type": "markdown",
   "id": "734a81ce",
   "metadata": {},
   "source": [
    "##### abstract class\n",
    "\n",
    "1. A class is called an abstract class only if it has at least one abstract method. Its a blue print to create subclasses\n",
    "2. An abstract method is decorated with @abstractmethod and does not have any definition.\n",
    "3. In python, we can use ABC(abstract Base Classes) Module, which can be used to achieve abstract classes.\n",
    "4. we can have multiple abstract methods and multiple normal(concrete) methods in abstract class\n",
    "5. we cannot instantiate or create objects of an abstract class (cos its just an abstract version)\n",
    "6. when you inherit an abstract class as a parent to the child class, the child class should define all the abstract method present in parent class.\n",
    "\n",
    "Usefulness:\n",
    "\n",
    "Its useful while building applications in OOPs\n",
    "1. Abstract class helps to have consistency while implementing subclasses\n",
    "2. It also ensures critical methods and properties are not missing in subclasses\n"
   ]
  },
  {
   "cell_type": "code",
   "execution_count": 9,
   "id": "5c3c210c",
   "metadata": {},
   "outputs": [],
   "source": [
    "# abstract class example\n",
    "\n",
    "from abc import ABC, abstractmethod\n",
    "\n",
    "class Areas:                         # Areas is an abstract class with an abstract method total_area\n",
    "                                     # All subclasses must have this abstract method\n",
    "    @abstractmethod\n",
    "    def total_area(self):\n",
    "        pass\n",
    "    \n",
    "class square(Areas):\n",
    "    def __init__(self,side):\n",
    "        self.side = side\n",
    "        \n",
    "    def total_area(self):\n",
    "        return self.side * self.side\n",
    "\n",
    "class circle(Areas):\n",
    "    pie = 3.14\n",
    "    def __init__(self,radius):\n",
    "        self.radius = radius\n",
    "        \n",
    "    def total_area(self):\n",
    "        return self.pie * self.radius * self.radius"
   ]
  },
  {
   "cell_type": "code",
   "execution_count": 10,
   "id": "bab45ed0",
   "metadata": {},
   "outputs": [
    {
     "data": {
      "text/plain": [
       "25"
      ]
     },
     "execution_count": 10,
     "metadata": {},
     "output_type": "execute_result"
    }
   ],
   "source": [
    "s = square(5)\n",
    "s.total_area()"
   ]
  },
  {
   "cell_type": "code",
   "execution_count": 11,
   "id": "ce2fa3e0",
   "metadata": {},
   "outputs": [
    {
     "data": {
      "text/plain": [
       "78.5"
      ]
     },
     "execution_count": 11,
     "metadata": {},
     "output_type": "execute_result"
    }
   ],
   "source": [
    "c = circle(5)\n",
    "c.total_area()"
   ]
  },
  {
   "cell_type": "code",
   "execution_count": null,
   "id": "bb9a121d",
   "metadata": {},
   "outputs": [],
   "source": []
  },
  {
   "cell_type": "markdown",
   "id": "f0bfdb1d",
   "metadata": {},
   "source": [
    "##### decorator"
   ]
  },
  {
   "cell_type": "markdown",
   "id": "06635b8d",
   "metadata": {},
   "source": [
    "A decorator takes in a function, adds some functionality to that function and returns it.\n",
    "\n",
    "While building APIs using Flask, we have @app.route() as a decorator which tells its a route and should execute function below the route once hit that URL.\n",
    "\n",
    "A simple example as below."
   ]
  },
  {
   "cell_type": "code",
   "execution_count": 36,
   "id": "ce98e2cb",
   "metadata": {},
   "outputs": [],
   "source": [
    "def square_area(func):                             # square_area() is a decorator which takes function area() as parameter\n",
    "    def inner(a):\n",
    "        return f\"Area of given sqaure : {func(a)}cm2\"        # decorator adds more functionality to area()\n",
    "    return inner\n",
    "\n",
    "@square_area\n",
    "def area(a):\n",
    "    return a**2"
   ]
  },
  {
   "cell_type": "code",
   "execution_count": 37,
   "id": "70efacd5",
   "metadata": {},
   "outputs": [
    {
     "data": {
      "text/plain": [
       "'Area of given sqaure : 4cm2'"
      ]
     },
     "execution_count": 37,
     "metadata": {},
     "output_type": "execute_result"
    }
   ],
   "source": [
    "area(2)"
   ]
  },
  {
   "cell_type": "code",
   "execution_count": null,
   "id": "2e01dc77",
   "metadata": {},
   "outputs": [],
   "source": []
  },
  {
   "cell_type": "markdown",
   "id": "fc349421",
   "metadata": {},
   "source": [
    "##### multiple inheritance"
   ]
  },
  {
   "cell_type": "markdown",
   "id": "9cc4c49f",
   "metadata": {},
   "source": [
    "1. Inheritance allow subclasses to inherit properties and methods from Parent class\n",
    "2. It can be Horizontal or Veritical, Single or Multiple"
   ]
  },
  {
   "cell_type": "code",
   "execution_count": 58,
   "id": "49857fc4",
   "metadata": {},
   "outputs": [],
   "source": [
    "# Vertical : \n",
    "\n",
    "class A :\n",
    "    def test_A (self):\n",
    "        return \"this is from class A\"\n",
    "    \n",
    "class B(A) :\n",
    "     def test_B (self):\n",
    "        return \"this is from class B\"\n",
    "    \n",
    "class C(B) :\n",
    "     def test_C (self):\n",
    "        return \"this is from class C\""
   ]
  },
  {
   "cell_type": "code",
   "execution_count": 59,
   "id": "ab128175",
   "metadata": {},
   "outputs": [
    {
     "name": "stdout",
     "output_type": "stream",
     "text": [
      "this is from class C\n",
      "this is from class B\n",
      "this is from class A\n"
     ]
    }
   ],
   "source": [
    "x = C()\n",
    "print(x.test_C())\n",
    "print(x.test_B())\n",
    "print(x.test_A())"
   ]
  },
  {
   "cell_type": "code",
   "execution_count": 69,
   "id": "c22e3cb6",
   "metadata": {},
   "outputs": [],
   "source": [
    "# Horizontal : \n",
    "\n",
    "class P:\n",
    "    def __init__(self, a,b) :\n",
    "        self.a= a \n",
    "        self.b = b \n",
    "        \n",
    "class Q:\n",
    "    def __init__(self, c,d ):\n",
    "        self.c = c \n",
    "        self.d= d \n",
    "        \n",
    "class R(P,Q):\n",
    "    def __init__(self,a,b,c,d) :      \n",
    "        P.__init__(self, a,b)       \n",
    "        Q.__init__(self,c,d)       \n",
    "    \n",
    "    def ab_total(self):               \n",
    "        return f\"Total of {self.a} & {self.b} : {self.a + self.b}\""
   ]
  },
  {
   "cell_type": "code",
   "execution_count": 70,
   "id": "93c377ae",
   "metadata": {},
   "outputs": [
    {
     "data": {
      "text/plain": [
       "'Total of 1 & 2 : 3'"
      ]
     },
     "execution_count": 70,
     "metadata": {},
     "output_type": "execute_result"
    }
   ],
   "source": [
    "r = R(1,2,3,4)\n",
    "r.ab_total()"
   ]
  },
  {
   "cell_type": "code",
   "execution_count": null,
   "id": "6fcaf708",
   "metadata": {},
   "outputs": [],
   "source": []
  }
 ],
 "metadata": {
  "kernelspec": {
   "display_name": "Python 3",
   "language": "python",
   "name": "python3"
  },
  "language_info": {
   "codemirror_mode": {
    "name": "ipython",
    "version": 3
   },
   "file_extension": ".py",
   "mimetype": "text/x-python",
   "name": "python",
   "nbconvert_exporter": "python",
   "pygments_lexer": "ipython3",
   "version": "3.8.8"
  }
 },
 "nbformat": 4,
 "nbformat_minor": 5
}
